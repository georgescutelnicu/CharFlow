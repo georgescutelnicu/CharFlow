{
  "nbformat": 4,
  "nbformat_minor": 0,
  "metadata": {
    "colab": {
      "provenance": []
    },
    "kernelspec": {
      "name": "python3",
      "display_name": "Python 3"
    },
    "language_info": {
      "name": "python"
    }
  },
  "cells": [
    {
      "cell_type": "markdown",
      "source": [
        "**Libraries and file**"
      ],
      "metadata": {
        "id": "RqvrzUDfcpff"
      }
    },
    {
      "cell_type": "code",
      "source": [
        "# Import libraries\n",
        "import torch\n",
        "import torch.nn.functional as F\n",
        "\n",
        "import matplotlib.pyplot as plt"
      ],
      "metadata": {
        "id": "-AguGbiUfJeA"
      },
      "execution_count": 1,
      "outputs": []
    },
    {
      "cell_type": "code",
      "source": [
        "# Import file and read first 10 words **the file should contain one word per row**\n",
        "names = open('names.txt', 'r').read().splitlines()\n",
        "names[:10]"
      ],
      "metadata": {
        "id": "D6T4h5eZfMWo",
        "colab": {
          "base_uri": "https://localhost:8080/"
        },
        "outputId": "f7450507-391e-419b-9120-b6d5a6ea5e3b"
      },
      "execution_count": 2,
      "outputs": [
        {
          "output_type": "execute_result",
          "data": {
            "text/plain": [
              "['BELLA',\n",
              " 'LUCY',\n",
              " 'SADIE',\n",
              " 'MAX',\n",
              " 'BUDDY',\n",
              " 'BAILEY',\n",
              " 'CHARLIE',\n",
              " 'DAISY',\n",
              " 'JACK',\n",
              " 'GINGER']"
            ]
          },
          "metadata": {},
          "execution_count": 2
        }
      ]
    },
    {
      "cell_type": "markdown",
      "source": [
        "**Vocabulary**"
      ],
      "metadata": {
        "id": "nNz2L6XGPuK_"
      }
    },
    {
      "cell_type": "code",
      "source": [
        "# Create vocabulary and the start/end token \".\"\n",
        "char = set(''.join(names))\n",
        "\n",
        "char_to_idx = {char: idx+1 for idx, char in enumerate(sorted(char))}\n",
        "char_to_idx['.'] = 0\n",
        "\n",
        "idx_to_char = {v: k for k, v in char_to_idx.items()}"
      ],
      "metadata": {
        "id": "-V4kaS_B1CPl"
      },
      "execution_count": 3,
      "outputs": []
    },
    {
      "cell_type": "code",
      "source": [
        "# Get the vocabulary size\n",
        "VOCAB_SIZE = len(idx_to_char)"
      ],
      "metadata": {
        "id": "r_0rxKoj3MhZ"
      },
      "execution_count": 4,
      "outputs": []
    },
    {
      "cell_type": "markdown",
      "source": [
        "**Dataset**"
      ],
      "metadata": {
        "id": "Tin-YtJP5qu4"
      }
    },
    {
      "cell_type": "code",
      "source": [
        "# How many characters should we get in order to predict the next one\n",
        "CONTEXT_SIZE = 3"
      ],
      "metadata": {
        "id": "giCo9pX-1tfG"
      },
      "execution_count": 5,
      "outputs": []
    },
    {
      "cell_type": "code",
      "source": [
        "# Where to split data\n",
        "n = int(0.9*len(names))"
      ],
      "metadata": {
        "id": "cXKMkZFEcN3l"
      },
      "execution_count": 6,
      "outputs": []
    },
    {
      "cell_type": "code",
      "source": [
        "# Create dataset function\n",
        "def create_dataset(names=names):\n",
        "\n",
        "  X = []\n",
        "  y = []\n",
        "\n",
        "  for name in names:\n",
        "    x_ = CONTEXT_SIZE * [0]\n",
        "    for ch in name + '.':\n",
        "      X.append(x_)\n",
        "      y.append(char_to_idx[ch])\n",
        "      x_ = x_[1:] + [char_to_idx[ch]]\n",
        "\n",
        "  X = torch.tensor(X)\n",
        "  y = torch.tensor(y)\n",
        "  \n",
        "  return X, y"
      ],
      "metadata": {
        "id": "77CPAVxA40oe"
      },
      "execution_count": 7,
      "outputs": []
    },
    {
      "cell_type": "code",
      "source": [
        "# Create train and test datasets\n",
        "X, y = create_dataset(names[:n])\n",
        "X_test, y_test = create_dataset(names[n:])"
      ],
      "metadata": {
        "id": "A9er6paf5dTx"
      },
      "execution_count": 8,
      "outputs": []
    },
    {
      "cell_type": "code",
      "source": [
        "# Check shape and dtype of the X and y\n",
        "X.shape, X.dtype, y.shape, y.dtype"
      ],
      "metadata": {
        "colab": {
          "base_uri": "https://localhost:8080/"
        },
        "id": "3NJEz_KOnvEq",
        "outputId": "4ecf6d55-caf3-45f5-c621-1b5e5cafacf5"
      },
      "execution_count": 9,
      "outputs": [
        {
          "output_type": "execute_result",
          "data": {
            "text/plain": [
              "(torch.Size([84796, 3]), torch.int64, torch.Size([84796]), torch.int64)"
            ]
          },
          "metadata": {},
          "execution_count": 9
        }
      ]
    },
    {
      "cell_type": "code",
      "source": [
        "# # Check shape and dtype of the X_test and y_test\n",
        "X_test.shape, X_test.dtype, y_test.shape, y_test.dtype"
      ],
      "metadata": {
        "colab": {
          "base_uri": "https://localhost:8080/"
        },
        "id": "JI_Eu9305mUX",
        "outputId": "11f16799-940d-47bb-a0b2-6bc0cdc4ab6c"
      },
      "execution_count": 10,
      "outputs": [
        {
          "output_type": "execute_result",
          "data": {
            "text/plain": [
              "(torch.Size([9479, 3]), torch.int64, torch.Size([9479]), torch.int64)"
            ]
          },
          "metadata": {},
          "execution_count": 10
        }
      ]
    },
    {
      "cell_type": "markdown",
      "source": [
        "**Model**"
      ],
      "metadata": {
        "id": "CsT2YUi-nmQ4"
      }
    },
    {
      "cell_type": "code",
      "source": [
        "# Model architecture\n",
        "class LinearLayer:\n",
        "\n",
        "  def __init__(self, in_features, hidden_units):\n",
        "    self.W = torch.randn((in_features, hidden_units)) * 0.01\n",
        "    self.b = torch.randn(hidden_units) * 0\n",
        "\n",
        "  def __call__(self, X):\n",
        "    self.out = X @ self.W + self.b\n",
        "    return self.out\n",
        "\n",
        "  def params(self):\n",
        "    return [self.W] + [self.b]  # '+', ','\n",
        "\n",
        "\n",
        "class BatchNormalization:\n",
        "\n",
        "  def __init__(self, dim, training=True):\n",
        "    self.training = training\n",
        "\n",
        "    # Parameters\n",
        "    self.batch_gain = torch.ones(dim)\n",
        "    self.batch_bias = torch.zeros(dim)\n",
        "\n",
        "    # Buffers\n",
        "    self.all_batch_mean = torch.zeros(dim)\n",
        "    self.all_batch_std = torch.ones(dim)\n",
        "\n",
        "  def __call__(self, X):\n",
        "    if self.training:\n",
        "      batch_mean = X.mean(0, keepdim=True)\n",
        "      batch_std = X.std(0, keepdim=True)\n",
        "      with torch.no_grad():\n",
        "        self.all_batch_mean = 0.99 * self.all_batch_mean + 0.01 * batch_mean\n",
        "        self.all_batch_std = 0.99 * self.all_batch_std + 0.01 * batch_std\n",
        "    else:\n",
        "      batch_mean = self.all_batch_mean\n",
        "      batch_std = self.all_batch_std\n",
        "\n",
        "    self.out = self.batch_gain * (X - batch_mean) / batch_std + self.batch_bias\n",
        "    return self.out\n",
        "\n",
        "  def params(self):\n",
        "    return [self.batch_gain, self.batch_bias]\n",
        "\n",
        "\n",
        "class TanH:\n",
        "\n",
        "  def __call__(self, X):\n",
        "    self.out = torch.tanh(X)\n",
        "    return self.out\n",
        "  \n",
        "  def params(self):\n",
        "    return []\n",
        "\n",
        "\n",
        "class Embeddings:\n",
        "\n",
        "  def __init__(self, vocab_size, emb_size):\n",
        "    self.emb = torch.randn((vocab_size, emb_size))\n",
        "\n",
        "  def __call__(self, X):\n",
        "    self.out = self.emb[X]\n",
        "    self.out = self.out.view(self.out.shape[0], -1)\n",
        "    return self.out\n",
        "\n",
        "  def params(self):\n",
        "    return [self.emb]\n",
        "\n",
        "\n",
        "class Sequential:\n",
        "  \n",
        "  def __init__(self, layers):\n",
        "    self.layers = layers\n",
        "  \n",
        "  def __call__(self, X):\n",
        "    for layer in self.layers:\n",
        "      X = layer(X)\n",
        "    self.out = X\n",
        "    return self.out\n",
        "  \n",
        "  def params(self):\n",
        "    return [p for layer in self.layers for p in layer.params()]"
      ],
      "metadata": {
        "id": "QK3Bq-sTUdqs"
      },
      "execution_count": 11,
      "outputs": []
    },
    {
      "cell_type": "markdown",
      "source": [
        "**Hyperparameters**"
      ],
      "metadata": {
        "id": "h0Xl64aiZ7_C"
      }
    },
    {
      "cell_type": "code",
      "source": [
        "# Hyperparameters\n",
        "EMB_SIZE = 20\n",
        "HIDDEN_UNITS = 200\n",
        "BATCH_SIZE = 32\n",
        "STEPS = 300000"
      ],
      "metadata": {
        "id": "1ByDgq_NZ7Zc"
      },
      "execution_count": 12,
      "outputs": []
    },
    {
      "cell_type": "markdown",
      "source": [
        "**Create model & set the parameters to require grad**"
      ],
      "metadata": {
        "id": "qEl190MjaEfq"
      }
    },
    {
      "cell_type": "code",
      "source": [
        "# Instantiate model\n",
        "model = Sequential([\n",
        "  Embeddings(VOCAB_SIZE, EMB_SIZE),\n",
        "  LinearLayer(EMB_SIZE * CONTEXT_SIZE, HIDDEN_UNITS), BatchNormalization(HIDDEN_UNITS), TanH(),\n",
        "  LinearLayer(HIDDEN_UNITS, HIDDEN_UNITS), BatchNormalization(HIDDEN_UNITS), TanH(),\n",
        "  LinearLayer(HIDDEN_UNITS, VOCAB_SIZE),\n",
        "])"
      ],
      "metadata": {
        "id": "DDtCH0UTi-5O"
      },
      "execution_count": 13,
      "outputs": []
    },
    {
      "cell_type": "code",
      "source": [
        "# Set the parameters to require grad\n",
        "parameters = model.params()\n",
        "\n",
        "for p in parameters:\n",
        "  p.requires_grad = True"
      ],
      "metadata": {
        "id": "e8tOnXJpkNp6"
      },
      "execution_count": 14,
      "outputs": []
    },
    {
      "cell_type": "markdown",
      "source": [
        "**Forward pass**"
      ],
      "metadata": {
        "id": "PJuhQwJAaQ-j"
      }
    },
    {
      "cell_type": "code",
      "source": [
        "# Create list to store all the loss values\n",
        "loss_list = []\n",
        "\n",
        "# Forward pass\n",
        "for i in range(STEPS):\n",
        "\n",
        "  idx = torch.randint(0, X.shape[0], (BATCH_SIZE, ))\n",
        "  X_batch, y_batch = X[idx], y[idx]\n",
        "  \n",
        "  logits = model(X_batch)\n",
        "  loss = F.cross_entropy(logits, y_batch) # loss function\n",
        "\n",
        "  # Backpropagation\n",
        "  for p in parameters:\n",
        "    p.grad = None\n",
        "  loss.backward()\n",
        "  \n",
        "  # Lr decay\n",
        "  if i < 200000:\n",
        "    lr = -0.01\n",
        "  elif i < 100000:\n",
        "    lr = -0.1\n",
        "  else:\n",
        "    lr = -0.001\n",
        "\n",
        "  # Update the parameters\n",
        "  for p in parameters:\n",
        "    p.data += lr * p.grad\n",
        "\n",
        "  # Track loss every 10000 steps and append all the loss values to a list\n",
        "  if i % 10000 == 0:\n",
        "    print(f'{loss.item():.4f}')\n",
        "  loss_list.append(loss.item())"
      ],
      "metadata": {
        "colab": {
          "base_uri": "https://localhost:8080/"
        },
        "id": "pBUijeC9mmu6",
        "outputId": "79145db6-0758-46d3-9a09-0c45e49e3eae"
      },
      "execution_count": 15,
      "outputs": [
        {
          "output_type": "stream",
          "name": "stdout",
          "text": [
            "3.3185\n",
            "2.4616\n",
            "2.0431\n",
            "2.0191\n",
            "1.8910\n",
            "1.9696\n",
            "2.0139\n",
            "2.1667\n",
            "1.9469\n",
            "1.9474\n",
            "1.8738\n",
            "1.8404\n",
            "1.5918\n",
            "2.0459\n",
            "1.7811\n",
            "2.0652\n",
            "2.3293\n",
            "1.8020\n",
            "1.4326\n",
            "1.4245\n",
            "1.5819\n",
            "1.6157\n",
            "1.8667\n",
            "1.6163\n",
            "1.7843\n",
            "1.5741\n",
            "1.7781\n",
            "1.8490\n",
            "1.7232\n",
            "1.5303\n"
          ]
        }
      ]
    },
    {
      "cell_type": "markdown",
      "source": [
        "**Loss curve**"
      ],
      "metadata": {
        "id": "3xXx3twcacBq"
      }
    },
    {
      "cell_type": "code",
      "source": [
        "# Plot loss curve\n",
        "plt.plot(torch.tensor(loss_list).view(-1, 10000).mean(1))"
      ],
      "metadata": {
        "colab": {
          "base_uri": "https://localhost:8080/",
          "height": 282
        },
        "id": "onFYZjg7pEl3",
        "outputId": "247b545c-f79c-4903-b066-3249ab8be551"
      },
      "execution_count": 16,
      "outputs": [
        {
          "output_type": "execute_result",
          "data": {
            "text/plain": [
              "[<matplotlib.lines.Line2D at 0x7fb2de8945e0>]"
            ]
          },
          "metadata": {},
          "execution_count": 16
        },
        {
          "output_type": "display_data",
          "data": {
            "text/plain": [
              "<Figure size 432x288 with 1 Axes>"
            ],
            "image/png": "[encoded data removed]"
          },
          "metadata": {
            "needs_background": "light"
          }
        }
      ]
    },
    {
      "cell_type": "markdown",
      "source": [
        "**Check test loss**"
      ],
      "metadata": {
        "id": "3-MaQPB5ahin"
      }
    },
    {
      "cell_type": "code",
      "source": [
        "# Set the BN training attribute to False\n",
        "for layer in model.layers:\n",
        "  layer.training = False"
      ],
      "metadata": {
        "id": "HqoPrN9Qan1C"
      },
      "execution_count": 17,
      "outputs": []
    },
    {
      "cell_type": "code",
      "source": [
        "# Function to calculate the loss\n",
        "def check_loss(data='train'):\n",
        "  with torch.no_grad():\n",
        "    X_,y_ = {\n",
        "      'train': (X, y),\n",
        "      'test': (X_test, y_test)\n",
        "    }[data]\n",
        "    logits = model(X_)\n",
        "    loss = F.cross_entropy(logits, y_)\n",
        "  print(data, loss.item())"
      ],
      "metadata": {
        "id": "MNmTNeIZwB7j"
      },
      "execution_count": 18,
      "outputs": []
    },
    {
      "cell_type": "code",
      "source": [
        "# Train loss\n",
        "check_loss()"
      ],
      "metadata": {
        "colab": {
          "base_uri": "https://localhost:8080/"
        },
        "id": "Iolbrr4DwC9_",
        "outputId": "0e5ed07a-360b-4e35-a42a-ed2e2f98767f"
      },
      "execution_count": 19,
      "outputs": [
        {
          "output_type": "stream",
          "name": "stdout",
          "text": [
            "train 1.7322505712509155\n"
          ]
        }
      ]
    },
    {
      "cell_type": "code",
      "source": [
        "# Test loss\n",
        "check_loss('test')"
      ],
      "metadata": {
        "colab": {
          "base_uri": "https://localhost:8080/"
        },
        "id": "u12KPQo9wEg8",
        "outputId": "96da4715-308b-4196-8e82-3077782296a2"
      },
      "execution_count": 20,
      "outputs": [
        {
          "output_type": "stream",
          "name": "stdout",
          "text": [
            "test 2.0458731651306152\n"
          ]
        }
      ]
    },
    {
      "cell_type": "code",
      "source": [
        "# Get 15 predictions\n",
        "for _ in range(15):\n",
        "\n",
        "  out_list = []\n",
        "  context = CONTEXT_SIZE * [0]\n",
        "  while True:\n",
        "\n",
        "    logits = model(torch.tensor([context]))\n",
        "    probs = F.softmax(logits, dim=1)\n",
        "    idx = torch.multinomial(probs, num_samples=1).item() # Draw samples from a multinomial distribution.\n",
        "\n",
        "    context = context[1:] + [idx]\n",
        "    out_list.append(idx)\n",
        "  \n",
        "    if idx == 0:\n",
        "      break\n",
        "    \n",
        "  print(''.join(idx_to_char[idx] for idx in out_list[:-1]))"
      ],
      "metadata": {
        "colab": {
          "base_uri": "https://localhost:8080/"
        },
        "id": "nstf4yy_wG_a",
        "outputId": "8c4fd22b-3a2d-4e6a-c7f4-3b5a7d5218b5"
      },
      "execution_count": 22,
      "outputs": [
        {
          "output_type": "stream",
          "name": "stdout",
          "text": [
            "PANDALF\n",
            "PIPPER\n",
            "BRUSHILDA\n",
            "DOZER\n",
            "TAMAK\n",
            "HAYLA\n",
            "WRENA\n",
            "JULIE\n",
            "BINNIE\n",
            "BREEZLE\n",
            "BLAZEE\n",
            "PAX\n",
            "BANSHINGTON\n",
            "AUGE\n",
            "NETO\n"
          ]
        }
      ]
    }
  ]
}